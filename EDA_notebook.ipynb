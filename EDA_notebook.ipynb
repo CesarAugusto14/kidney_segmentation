{
 "cells": [
  {
   "cell_type": "markdown",
   "metadata": {},
   "source": [
    "# Exploratory Data Analysis (EDA)"
   ]
  },
  {
   "cell_type": "code",
   "execution_count": 3,
   "metadata": {},
   "outputs": [
    {
     "data": {
      "text/html": [
       "<div>\n",
       "<style scoped>\n",
       "    .dataframe tbody tr th:only-of-type {\n",
       "        vertical-align: middle;\n",
       "    }\n",
       "\n",
       "    .dataframe tbody tr th {\n",
       "        vertical-align: top;\n",
       "    }\n",
       "\n",
       "    .dataframe thead th {\n",
       "        text-align: right;\n",
       "    }\n",
       "</style>\n",
       "<table border=\"1\" class=\"dataframe\">\n",
       "  <thead>\n",
       "    <tr style=\"text-align: right;\">\n",
       "      <th></th>\n",
       "      <th>id</th>\n",
       "      <th>rle</th>\n",
       "    </tr>\n",
       "  </thead>\n",
       "  <tbody>\n",
       "    <tr>\n",
       "      <th>0</th>\n",
       "      <td>kidney_1_dense_0000</td>\n",
       "      <td>1 0</td>\n",
       "    </tr>\n",
       "    <tr>\n",
       "      <th>1</th>\n",
       "      <td>kidney_1_dense_0001</td>\n",
       "      <td>1 0</td>\n",
       "    </tr>\n",
       "    <tr>\n",
       "      <th>2</th>\n",
       "      <td>kidney_1_dense_0002</td>\n",
       "      <td>1 0</td>\n",
       "    </tr>\n",
       "    <tr>\n",
       "      <th>3</th>\n",
       "      <td>kidney_1_dense_0003</td>\n",
       "      <td>1 0</td>\n",
       "    </tr>\n",
       "    <tr>\n",
       "      <th>4</th>\n",
       "      <td>kidney_1_dense_0004</td>\n",
       "      <td>1 0</td>\n",
       "    </tr>\n",
       "    <tr>\n",
       "      <th>...</th>\n",
       "      <td>...</td>\n",
       "      <td>...</td>\n",
       "    </tr>\n",
       "    <tr>\n",
       "      <th>7424</th>\n",
       "      <td>kidney_3_sparse_1030</td>\n",
       "      <td>1 0</td>\n",
       "    </tr>\n",
       "    <tr>\n",
       "      <th>7425</th>\n",
       "      <td>kidney_3_sparse_1031</td>\n",
       "      <td>1 0</td>\n",
       "    </tr>\n",
       "    <tr>\n",
       "      <th>7426</th>\n",
       "      <td>kidney_3_sparse_1032</td>\n",
       "      <td>1 0</td>\n",
       "    </tr>\n",
       "    <tr>\n",
       "      <th>7427</th>\n",
       "      <td>kidney_3_sparse_1033</td>\n",
       "      <td>1 0</td>\n",
       "    </tr>\n",
       "    <tr>\n",
       "      <th>7428</th>\n",
       "      <td>kidney_3_sparse_1034</td>\n",
       "      <td>1 0</td>\n",
       "    </tr>\n",
       "  </tbody>\n",
       "</table>\n",
       "<p>7429 rows × 2 columns</p>\n",
       "</div>"
      ],
      "text/plain": [
       "                        id  rle\n",
       "0      kidney_1_dense_0000  1 0\n",
       "1      kidney_1_dense_0001  1 0\n",
       "2      kidney_1_dense_0002  1 0\n",
       "3      kidney_1_dense_0003  1 0\n",
       "4      kidney_1_dense_0004  1 0\n",
       "...                    ...  ...\n",
       "7424  kidney_3_sparse_1030  1 0\n",
       "7425  kidney_3_sparse_1031  1 0\n",
       "7426  kidney_3_sparse_1032  1 0\n",
       "7427  kidney_3_sparse_1033  1 0\n",
       "7428  kidney_3_sparse_1034  1 0\n",
       "\n",
       "[7429 rows x 2 columns]"
      ]
     },
     "execution_count": 3,
     "metadata": {},
     "output_type": "execute_result"
    }
   ],
   "source": [
    "import pandas as pd\n",
    "import imageio\n",
    "import cv2\n",
    "from glob import glob\n",
    "from tqdm import tqdm\n",
    "from matplotlib import pyplot as plt\n",
    "from matplotlib import animation as ani\n",
    "df = pd.read_csv('./data/train_rles.csv', low_memory=False)\n",
    "# Check what is RLE (according to the main page, it is run length encoded mask)\n",
    "df"
   ]
  },
  {
   "cell_type": "markdown",
   "metadata": {},
   "source": [
    "## Checking Images"
   ]
  },
  {
   "cell_type": "code",
   "execution_count": 4,
   "metadata": {},
   "outputs": [
    {
     "name": "stderr",
     "output_type": "stream",
     "text": [
      "100%|██████████| 2279/2279 [00:03<00:00, 571.54it/s]\n"
     ]
    }
   ],
   "source": [
    "\n",
    "# List the information in data/train\n",
    "\n",
    "mainFolder = './data/'\n",
    "# Get all the files from './data/train/'\n",
    "folderList = sorted(glob(mainFolder + 'train/*'))\n",
    "# Get all the files inside the first folder\n",
    "kidneyInfo = glob(folderList[0] + '/*')\n",
    "\n",
    "# We have in the first folder from kidneyInfo, the images, and in the second folder, the masks,\n",
    "# we will get the images by:\n",
    "kidneyImages = sorted(glob(kidneyInfo[0] + '/*'))\n",
    "maskImages = sorted(glob(kidneyInfo[1] + '/*'))\n",
    "\n",
    "# Create a GIF \n",
    "images = []\n",
    "for filename in tqdm(kidneyImages):\n",
    "    images.append(cv2.resize(cv2.imread(filename, cv2.IMREAD_GRAYSCALE), (0,0), fx=0.4, fy=0.4))\n",
    "imageio.mimsave('./kidney_no_mask.gif', images, format = 'GIF-PIL')"
   ]
  },
  {
   "cell_type": "code",
   "execution_count": 130,
   "metadata": {},
   "outputs": [
    {
     "data": {
      "image/png": "[encoded data removed]",
      "text/plain": [
       "<Figure size 432x288 with 1 Axes>"
      ]
     },
     "metadata": {
      "needs_background": "light"
     },
     "output_type": "display_data"
    }
   ],
   "source": [
    "# Put the mask on top of the image\n",
    "img = cv2.imread(kidneyImages[200])\n",
    "mask = cv2.imread(maskImages[200])\n",
    "# Put the mask to have 3 channels\n",
    "mask = cv2.cvtColor(mask, cv2.COLOR_BGR2GRAY)\n",
    "mask = cv2.merge((mask, mask, mask))\n",
    "# Add the mask to the image\n",
    "masked_img = cv2.addWeighted(img, 0.5, mask, 0.5, 0)\n",
    "\n",
    "# Plot the image\n",
    "plt.imshow(masked_img)\n",
    "plt.axis('off')\n",
    "plt.show(\n",
    ")"
   ]
  }
 ],
 "metadata": {
  "kernelspec": {
   "display_name": "torch-gpu",
   "language": "python",
   "name": "python3"
  },
  "language_info": {
   "codemirror_mode": {
    "name": "ipython",
    "version": 3
   },
   "file_extension": ".py",
   "mimetype": "text/x-python",
   "name": "python",
   "nbconvert_exporter": "python",
   "pygments_lexer": "ipython3",
   "version": "3.8.13"
  }
 },
 "nbformat": 4,
 "nbformat_minor": 2
}
