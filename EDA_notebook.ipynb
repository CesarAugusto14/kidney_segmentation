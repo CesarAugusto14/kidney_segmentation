{
 "cells": [
  {
   "cell_type": "markdown",
   "metadata": {},
   "source": [
    "# Exploratory Data Analysis (EDA)"
   ]
  },
  {
   "cell_type": "code",
   "execution_count": 1,
   "metadata": {},
   "outputs": [
    {
     "data": {
      "text/html": [
       "<div>\n",
       "<style scoped>\n",
       "    .dataframe tbody tr th:only-of-type {\n",
       "        vertical-align: middle;\n",
       "    }\n",
       "\n",
       "    .dataframe tbody tr th {\n",
       "        vertical-align: top;\n",
       "    }\n",
       "\n",
       "    .dataframe thead th {\n",
       "        text-align: right;\n",
       "    }\n",
       "</style>\n",
       "<table border=\"1\" class=\"dataframe\">\n",
       "  <thead>\n",
       "    <tr style=\"text-align: right;\">\n",
       "      <th></th>\n",
       "      <th>id</th>\n",
       "      <th>rle</th>\n",
       "    </tr>\n",
       "  </thead>\n",
       "  <tbody>\n",
       "    <tr>\n",
       "      <th>0</th>\n",
       "      <td>kidney_1_dense_0000</td>\n",
       "      <td>1 0</td>\n",
       "    </tr>\n",
       "    <tr>\n",
       "      <th>1</th>\n",
       "      <td>kidney_1_dense_0001</td>\n",
       "      <td>1 0</td>\n",
       "    </tr>\n",
       "    <tr>\n",
       "      <th>2</th>\n",
       "      <td>kidney_1_dense_0002</td>\n",
       "      <td>1 0</td>\n",
       "    </tr>\n",
       "    <tr>\n",
       "      <th>3</th>\n",
       "      <td>kidney_1_dense_0003</td>\n",
       "      <td>1 0</td>\n",
       "    </tr>\n",
       "    <tr>\n",
       "      <th>4</th>\n",
       "      <td>kidney_1_dense_0004</td>\n",
       "      <td>1 0</td>\n",
       "    </tr>\n",
       "    <tr>\n",
       "      <th>...</th>\n",
       "      <td>...</td>\n",
       "      <td>...</td>\n",
       "    </tr>\n",
       "    <tr>\n",
       "      <th>7424</th>\n",
       "      <td>kidney_3_sparse_1030</td>\n",
       "      <td>1 0</td>\n",
       "    </tr>\n",
       "    <tr>\n",
       "      <th>7425</th>\n",
       "      <td>kidney_3_sparse_1031</td>\n",
       "      <td>1 0</td>\n",
       "    </tr>\n",
       "    <tr>\n",
       "      <th>7426</th>\n",
       "      <td>kidney_3_sparse_1032</td>\n",
       "      <td>1 0</td>\n",
       "    </tr>\n",
       "    <tr>\n",
       "      <th>7427</th>\n",
       "      <td>kidney_3_sparse_1033</td>\n",
       "      <td>1 0</td>\n",
       "    </tr>\n",
       "    <tr>\n",
       "      <th>7428</th>\n",
       "      <td>kidney_3_sparse_1034</td>\n",
       "      <td>1 0</td>\n",
       "    </tr>\n",
       "  </tbody>\n",
       "</table>\n",
       "<p>7429 rows × 2 columns</p>\n",
       "</div>"
      ],
      "text/plain": [
       "                        id  rle\n",
       "0      kidney_1_dense_0000  1 0\n",
       "1      kidney_1_dense_0001  1 0\n",
       "2      kidney_1_dense_0002  1 0\n",
       "3      kidney_1_dense_0003  1 0\n",
       "4      kidney_1_dense_0004  1 0\n",
       "...                    ...  ...\n",
       "7424  kidney_3_sparse_1030  1 0\n",
       "7425  kidney_3_sparse_1031  1 0\n",
       "7426  kidney_3_sparse_1032  1 0\n",
       "7427  kidney_3_sparse_1033  1 0\n",
       "7428  kidney_3_sparse_1034  1 0\n",
       "\n",
       "[7429 rows x 2 columns]"
      ]
     },
     "execution_count": 1,
     "metadata": {},
     "output_type": "execute_result"
    }
   ],
   "source": [
    "import pandas as pd\n",
    "import imageio\n",
    "import cv2\n",
    "from glob import glob\n",
    "from tqdm import tqdm\n",
    "from matplotlib import pyplot as plt\n",
    "from matplotlib import animation as ani\n",
    "df = pd.read_csv('./data/train_rles.csv', low_memory=False)\n",
    "# Check what is RLE (according to the main page, it is run length encoded mask)\n",
    "df"
   ]
  },
  {
   "cell_type": "markdown",
   "metadata": {},
   "source": [
    "## Checking Images"
   ]
  },
  {
   "cell_type": "code",
   "execution_count": 2,
   "metadata": {},
   "outputs": [
    {
     "name": "stdout",
     "output_type": "stream",
     "text": [
      "./data/train\\kidney_3_sparse\n"
     ]
    },
    {
     "name": "stderr",
     "output_type": "stream",
     "text": [
      "  0%|          | 0/1035 [00:00<?, ?it/s]"
     ]
    },
    {
     "name": "stderr",
     "output_type": "stream",
     "text": [
      "100%|██████████| 1035/1035 [00:26<00:00, 38.44it/s]\n"
     ]
    }
   ],
   "source": [
    "\n",
    "# List the information in data/train\n",
    "\n",
    "mainFolder = './data/'\n",
    "# Get all the files from './data/train/'\n",
    "folderList = sorted(glob(mainFolder + 'train/*'))\n",
    "# Get all the files inside the first folder\n",
    "kidneyInfo = glob(folderList[4] + '/*')\n",
    "print(folderList[4])\n",
    "\n",
    "# We have in the first folder from kidneyInfo, the images, and in the second folder, the masks,\n",
    "# we will get the images by:\n",
    "kidneyImages = sorted(glob(kidneyInfo[0] + '/*'))\n",
    "maskImages = sorted(glob(kidneyInfo[1] + '/*'))\n",
    "\n",
    "# Create a GIF \n",
    "images = []\n",
    "for filename in tqdm(kidneyImages):\n",
    "    images.append(cv2.resize(cv2.imread(filename, cv2.IMREAD_GRAYSCALE), (0,0), fx=0.4, fy=0.4))\n",
    "imageio.mimsave('./kidney3_no_mask.gif', images, format = 'GIF-PIL')"
   ]
  },
  {
   "cell_type": "code",
   "execution_count": 9,
   "metadata": {},
   "outputs": [
    {
     "name": "stdout",
     "output_type": "stream",
     "text": [
      "./data/train\\kidney_1_dense\n",
      "Number of images: 2279\n",
      "(1303, 912)\n",
      "./data/train\\kidney_1_voi\n",
      "Number of images: 1397\n",
      "(1928, 1928)\n",
      "./data/train\\kidney_2\n",
      "Number of images: 2217\n",
      "(1041, 1511)\n",
      "./data/train\\kidney_3_dense\n",
      "Number of images: 501\n",
      "(1706, 1510)\n",
      "./data/train\\kidney_3_sparse\n",
      "Number of images: 1035\n",
      "(1706, 1510)\n"
     ]
    }
   ],
   "source": [
    "# Check the sizes of each volume\n",
    "\n",
    "for kidney in folderList:\n",
    "    img = sorted(glob(kidney + '/labels/*'))\n",
    "    print(kidney)\n",
    "    print(f'Number of images: {len(img)}')\n",
    "    im = cv2.imread(img[0], cv2.IMREAD_GRAYSCALE)\n",
    "    print(im.shape)"
   ]
  }
 ],
 "metadata": {
  "kernelspec": {
   "display_name": "torch-gpu",
   "language": "python",
   "name": "python3"
  },
  "language_info": {
   "codemirror_mode": {
    "name": "ipython",
    "version": 3
   },
   "file_extension": ".py",
   "mimetype": "text/x-python",
   "name": "python",
   "nbconvert_exporter": "python",
   "pygments_lexer": "ipython3",
   "version": "3.10.10"
  }
 },
 "nbformat": 4,
 "nbformat_minor": 2
}
